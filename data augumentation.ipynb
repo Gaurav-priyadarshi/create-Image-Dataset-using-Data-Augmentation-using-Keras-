{
  "nbformat": 4,
  "nbformat_minor": 0,
  "metadata": {
    "colab": {
      "name": "Untitled3.ipynb",
      "provenance": [],
      "collapsed_sections": []
    },
    "kernelspec": {
      "name": "python3",
      "display_name": "Python 3"
    },
    "language_info": {
      "name": "python"
    }
  },
  "cells": [
    {
      "cell_type": "code",
      "metadata": {
        "id": "5s2e8QjGrsy6"
      },
      "source": [
        "## creeting image dataset using data augumentation using keras\n"
      ],
      "execution_count": 1,
      "outputs": []
    },
    {
      "cell_type": "code",
      "metadata": {
        "id": "EowqcvDluoXI"
      },
      "source": [
        "import keras\n",
        "from keras.preprocessing.image import ImageDataGenerator,array_to_img,img_to_array,load_img"
      ],
      "execution_count": 3,
      "outputs": []
    },
    {
      "cell_type": "code",
      "metadata": {
        "id": "v8U4Tt73upzK"
      },
      "source": [
        "# In this we can create many images bu roation,flipping,shifting etc by taking single image.\n",
        "# all the data augumentation properties are defined in imagedatagenerator."
      ],
      "execution_count": 4,
      "outputs": []
    },
    {
      "cell_type": "code",
      "metadata": {
        "id": "KeTxTBmcvVLm"
      },
      "source": [
        "datagen = ImageDataGenerator(rotation_range=40,width_shift_range=0.2,height_shift_range=0.2,shear_range=0.2,horizontal_flip=True,fill_mode='nearest')"
      ],
      "execution_count": 5,
      "outputs": []
    },
    {
      "cell_type": "code",
      "metadata": {
        "id": "7pfUQgIMvw0p"
      },
      "source": [
        "#load image\n",
        "img = load_img('/content/drive/MyDrive/ANN/cat-pet-animal-domestic-104827.jpeg')"
      ],
      "execution_count": 32,
      "outputs": []
    },
    {
      "cell_type": "code",
      "metadata": {
        "id": "Ufs4klH_v8_4"
      },
      "source": [
        "# converting the miage into numpy array\n",
        "x = img_to_array(img)"
      ],
      "execution_count": 33,
      "outputs": []
    },
    {
      "cell_type": "code",
      "metadata": {
        "colab": {
          "base_uri": "https://localhost:8080/"
        },
        "id": "_cyEVyt3xx3T",
        "outputId": "3d0afa2f-db64-4cc0-9b6a-02b3834f2ebf"
      },
      "source": [
        "x.shape"
      ],
      "execution_count": 34,
      "outputs": [
        {
          "output_type": "execute_result",
          "data": {
            "text/plain": [
              "(332, 500, 3)"
            ]
          },
          "metadata": {
            "tags": []
          },
          "execution_count": 34
        }
      ]
    },
    {
      "cell_type": "code",
      "metadata": {
        "id": "axgU6ZSIwFUO"
      },
      "source": [
        "#reshaping the numpy array\n",
        "x = x.reshape((1,)+x.shape) # shape is (1,3,150,150) # (150,150) represents the cahneel and 3 represents channel"
      ],
      "execution_count": 35,
      "outputs": []
    },
    {
      "cell_type": "code",
      "metadata": {
        "colab": {
          "base_uri": "https://localhost:8080/"
        },
        "id": "csKjMtVCzNfb",
        "outputId": "a43b08e9-035d-4df4-f337-99b259b34f73"
      },
      "source": [
        "x.shape"
      ],
      "execution_count": 36,
      "outputs": [
        {
          "output_type": "execute_result",
          "data": {
            "text/plain": [
              "(1, 332, 500, 3)"
            ]
          },
          "metadata": {
            "tags": []
          },
          "execution_count": 36
        }
      ]
    },
    {
      "cell_type": "code",
      "metadata": {
        "id": "LkMc8XIGwUYa"
      },
      "source": [
        "# the .flow() command generate batches of randomly transformed images and save the result to the preview directory"
      ],
      "execution_count": 37,
      "outputs": []
    },
    {
      "cell_type": "code",
      "metadata": {
        "id": "R52lA27awypv"
      },
      "source": [
        "path = '/content/drive/MyDrive/ANN'\n",
        "i  =0\n",
        "for batch in datagen.flow(x,batch_size=1,save_to_dir=path,save_prefix='cat',save_format='jpeg'):\n",
        "  i+=1\n",
        "  if i>20:\n",
        "    break"
      ],
      "execution_count": 40,
      "outputs": []
    },
    {
      "cell_type": "code",
      "metadata": {
        "id": "jsLvM6MgxcCx"
      },
      "source": [
        ""
      ],
      "execution_count": null,
      "outputs": []
    }
  ]
}